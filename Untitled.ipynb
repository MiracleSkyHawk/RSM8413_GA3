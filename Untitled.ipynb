{
 "cells": [
  {
   "cell_type": "code",
   "execution_count": 1,
   "id": "bf55f609",
   "metadata": {},
   "outputs": [
    {
     "name": "stdout",
     "output_type": "stream",
     "text": [
      "----------------------------------------\n"
     ]
    },
    {
     "ename": "AttributeError",
     "evalue": "module 'tensorflow' has no attribute 'random_uniform'",
     "output_type": "error",
     "traceback": [
      "\u001b[1;31m---------------------------------------------------------------------------\u001b[0m",
      "\u001b[1;31mAttributeError\u001b[0m                            Traceback (most recent call last)",
      "Input \u001b[1;32mIn [1]\u001b[0m, in \u001b[0;36m<cell line: 42>\u001b[1;34m()\u001b[0m\n\u001b[0;32m     46\u001b[0m \u001b[38;5;28mprint\u001b[39m(\u001b[38;5;124m\"\u001b[39m\u001b[38;5;124m--\u001b[39m\u001b[38;5;124m\"\u001b[39m \u001b[38;5;241m*\u001b[39m \u001b[38;5;241m20\u001b[39m)\n\u001b[0;32m     48\u001b[0m \u001b[38;5;28;01mfor\u001b[39;00m shape \u001b[38;5;129;01min\u001b[39;00m shapes:\n\u001b[1;32m---> 49\u001b[0m     _, time_taken \u001b[38;5;241m=\u001b[39m \u001b[43mcompute_operations\u001b[49m\u001b[43m(\u001b[49m\u001b[43mdevice\u001b[49m\u001b[43m,\u001b[49m\u001b[43m \u001b[49m\u001b[43mshape\u001b[49m\u001b[43m)\u001b[49m\n\u001b[0;32m     51\u001b[0m     \u001b[38;5;66;03m# Print the result and also the time taken on the selected device\u001b[39;00m\n\u001b[0;32m     52\u001b[0m     \u001b[38;5;28mprint\u001b[39m(\u001b[38;5;124m\"\u001b[39m\u001b[38;5;124mInput shape:\u001b[39m\u001b[38;5;124m\"\u001b[39m, shape, \u001b[38;5;124m\"\u001b[39m\u001b[38;5;124musing Device:\u001b[39m\u001b[38;5;124m\"\u001b[39m, device, \u001b[38;5;124m\"\u001b[39m\u001b[38;5;124mtook: \u001b[39m\u001b[38;5;132;01m{:.2f}\u001b[39;00m\u001b[38;5;124m\"\u001b[39m\u001b[38;5;241m.\u001b[39mformat(time_taken\u001b[38;5;241m.\u001b[39mseconds \u001b[38;5;241m+\u001b[39m time_taken\u001b[38;5;241m.\u001b[39mmicroseconds\u001b[38;5;241m/\u001b[39m\u001b[38;5;241m1e6\u001b[39m))\n",
      "Input \u001b[1;32mIn [1]\u001b[0m, in \u001b[0;36mcompute_operations\u001b[1;34m(device, shape)\u001b[0m\n\u001b[0;32m     26\u001b[0m \u001b[38;5;66;03m# Define operations to be computed on selected device\u001b[39;00m\n\u001b[0;32m     27\u001b[0m \u001b[38;5;28;01mwith\u001b[39;00m tf\u001b[38;5;241m.\u001b[39mdevice(device):\n\u001b[1;32m---> 28\u001b[0m     random_matrix \u001b[38;5;241m=\u001b[39m \u001b[43mtf\u001b[49m\u001b[38;5;241;43m.\u001b[39;49m\u001b[43mrandom_uniform\u001b[49m(shape\u001b[38;5;241m=\u001b[39mshape, minval\u001b[38;5;241m=\u001b[39m\u001b[38;5;241m0\u001b[39m, maxval\u001b[38;5;241m=\u001b[39m\u001b[38;5;241m1\u001b[39m)\n\u001b[0;32m     29\u001b[0m     dot_operation \u001b[38;5;241m=\u001b[39m tf\u001b[38;5;241m.\u001b[39mmatmul(random_matrix, tf\u001b[38;5;241m.\u001b[39mtranspose(random_matrix))\n\u001b[0;32m     30\u001b[0m     sum_operation \u001b[38;5;241m=\u001b[39m tf\u001b[38;5;241m.\u001b[39mreduce_sum(dot_operation)\n",
      "\u001b[1;31mAttributeError\u001b[0m: module 'tensorflow' has no attribute 'random_uniform'"
     ]
    }
   ],
   "source": [
    "import numpy as np\n",
    "import tensorflow as tf\n",
    "from datetime import datetime\n",
    "\n",
    "# Choose which device you want to test on: either 'cpu' or 'gpu'\n",
    "devices = ['cpu', 'gpu']\n",
    "\n",
    "# Choose size of the matrix to be used.\n",
    "# Make it bigger to see bigger benefits of parallel computation\n",
    "shapes = [(50, 50), (100, 100), (500, 500), (1000, 1000)]\n",
    "\n",
    "\n",
    "def compute_operations(device, shape):\n",
    "    \"\"\"Run a simple set of operations on a matrix of given shape on given device\n",
    "\n",
    "    Parameters\n",
    "    ----------\n",
    "    device : the type of device to use, either 'cpu' or 'gpu' \n",
    "    shape : a tuple for the shape of a 2d tensor, e.g. (10, 10)\n",
    "\n",
    "    Returns\n",
    "    -------\n",
    "    out : results of the operations as the time taken\n",
    "    \"\"\"\n",
    "\n",
    "    # Define operations to be computed on selected device\n",
    "    with tf.device(device):\n",
    "        random_matrix = tf.random_uniform(shape=shape, minval=0, maxval=1)\n",
    "        dot_operation = tf.matmul(random_matrix, tf.transpose(random_matrix))\n",
    "        sum_operation = tf.reduce_sum(dot_operation)\n",
    "\n",
    "    # Time the actual runtime of the operations\n",
    "    start_time = datetime.now()\n",
    "    with tf.Session(config=tf.ConfigProto(log_device_placement=True)) as session:\n",
    "            result = session.run(sum_operation)\n",
    "    elapsed_time = datetime.now() - start_time\n",
    "\n",
    "    return result, elapsed_time\n",
    "\n",
    "\n",
    "\n",
    "if __name__ == '__main__':\n",
    "\n",
    "    # Run the computations and print summary of each run\n",
    "    for device in devices:\n",
    "        print(\"--\" * 20)\n",
    "\n",
    "        for shape in shapes:\n",
    "            _, time_taken = compute_operations(device, shape)\n",
    "\n",
    "            # Print the result and also the time taken on the selected device\n",
    "            print(\"Input shape:\", shape, \"using Device:\", device, \"took: {:.2f}\".format(time_taken.seconds + time_taken.microseconds/1e6))\n",
    "            #print(\"Computation on shape:\", shape, \"using Device:\", device, \"took:\")\n",
    "\n",
    "    print(\"--\" * 20)"
   ]
  }
 ],
 "metadata": {
  "kernelspec": {
   "display_name": "Python 3 (ipykernel)",
   "language": "python",
   "name": "python3"
  },
  "language_info": {
   "codemirror_mode": {
    "name": "ipython",
    "version": 3
   },
   "file_extension": ".py",
   "mimetype": "text/x-python",
   "name": "python",
   "nbconvert_exporter": "python",
   "pygments_lexer": "ipython3",
   "version": "3.9.12"
  }
 },
 "nbformat": 4,
 "nbformat_minor": 5
}
